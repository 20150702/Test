{
  "nbformat": 4,
  "nbformat_minor": 0,
  "metadata": {
    "colab": {
      "name": "testing.ipynb",
      "provenance": [],
      "collapsed_sections": [],
      "toc_visible": true,
      "authorship_tag": "ABX9TyO15W4VXpijAZB8sq84bWnM",
      "include_colab_link": true
    },
    "kernelspec": {
      "name": "python3",
      "display_name": "Python 3"
    }
  },
  "cells": [
    {
      "cell_type": "markdown",
      "metadata": {
        "id": "view-in-github",
        "colab_type": "text"
      },
      "source": [
        "<a href=\"https://colab.research.google.com/github/20150702/Test/blob/main/testing.ipynb\" target=\"_parent\"><img src=\"https://colab.research.google.com/assets/colab-badge.svg\" alt=\"Open In Colab\"/></a>"
      ]
    },
    {
      "cell_type": "code",
      "metadata": {
        "colab": {
          "base_uri": "https://localhost:8080/"
        },
        "id": "ZIUGeGmdt-2r",
        "outputId": "15773d06-8ada-4b18-deff-7dafde20550b"
      },
      "source": [
        "from google.colab import drive\r\n",
        "drive.mount('/OP')"
      ],
      "execution_count": 1,
      "outputs": [
        {
          "output_type": "stream",
          "text": [
            "Mounted at /OP\n"
          ],
          "name": "stdout"
        }
      ]
    },
    {
      "cell_type": "code",
      "metadata": {
        "colab": {
          "base_uri": "https://localhost:8080/",
          "height": 419
        },
        "id": "8MtUA9LIuJ-V",
        "outputId": "3b53382d-86ac-4978-81c1-e99c803b7ece"
      },
      "source": [
        "import pandas as pd\r\n",
        "import sqlite3\r\n",
        "import numpy as np\r\n",
        "\r\n",
        "conn = sqlite3.connect(\"/OP/MyDrive/OnePuhunan/loanscube.db\")\r\n",
        "cur = conn.cursor()\r\n",
        "cur.execute(\"select * from loans_accountstate;\")\r\n",
        "\r\n",
        "df = pd.read_sql_query('''SELECT\r\n",
        "    AsOfDate,\r\n",
        "    BranchCode,\r\n",
        "    OutstandingPrincipal,\r\n",
        "    AccountID,\r\n",
        "    NoOfArrearDays\r\n",
        "    FROM loans_accountstate WHERE OutstandingPrincipal > 0''', conn)\r\n",
        "\r\n",
        "df"
      ],
      "execution_count": 2,
      "outputs": [
        {
          "output_type": "execute_result",
          "data": {
            "text/html": [
              "<div>\n",
              "<style scoped>\n",
              "    .dataframe tbody tr th:only-of-type {\n",
              "        vertical-align: middle;\n",
              "    }\n",
              "\n",
              "    .dataframe tbody tr th {\n",
              "        vertical-align: top;\n",
              "    }\n",
              "\n",
              "    .dataframe thead th {\n",
              "        text-align: right;\n",
              "    }\n",
              "</style>\n",
              "<table border=\"1\" class=\"dataframe\">\n",
              "  <thead>\n",
              "    <tr style=\"text-align: right;\">\n",
              "      <th></th>\n",
              "      <th>AsOfDate</th>\n",
              "      <th>BranchCode</th>\n",
              "      <th>OutstandingPrincipal</th>\n",
              "      <th>AccountID</th>\n",
              "      <th>NoOfArrearDays</th>\n",
              "    </tr>\n",
              "  </thead>\n",
              "  <tbody>\n",
              "    <tr>\n",
              "      <th>0</th>\n",
              "      <td>2020-11-30 00:00:00.000000</td>\n",
              "      <td>0002</td>\n",
              "      <td>3385.89</td>\n",
              "      <td>0002OB30001739-1</td>\n",
              "      <td>0.0</td>\n",
              "    </tr>\n",
              "    <tr>\n",
              "      <th>1</th>\n",
              "      <td>2020-11-30 00:00:00.000000</td>\n",
              "      <td>0008</td>\n",
              "      <td>7613.44</td>\n",
              "      <td>0008O120000035-1</td>\n",
              "      <td>0.0</td>\n",
              "    </tr>\n",
              "    <tr>\n",
              "      <th>2</th>\n",
              "      <td>2020-11-30 00:00:00.000000</td>\n",
              "      <td>0001</td>\n",
              "      <td>10298.89</td>\n",
              "      <td>0001OB30002295-1</td>\n",
              "      <td>0.0</td>\n",
              "    </tr>\n",
              "    <tr>\n",
              "      <th>3</th>\n",
              "      <td>2020-11-30 00:00:00.000000</td>\n",
              "      <td>0001</td>\n",
              "      <td>18580.07</td>\n",
              "      <td>0001O110000191-3</td>\n",
              "      <td>0.0</td>\n",
              "    </tr>\n",
              "    <tr>\n",
              "      <th>4</th>\n",
              "      <td>2020-11-30 00:00:00.000000</td>\n",
              "      <td>0056</td>\n",
              "      <td>25636.19</td>\n",
              "      <td>0056O130000018-1</td>\n",
              "      <td>0.0</td>\n",
              "    </tr>\n",
              "    <tr>\n",
              "      <th>...</th>\n",
              "      <td>...</td>\n",
              "      <td>...</td>\n",
              "      <td>...</td>\n",
              "      <td>...</td>\n",
              "      <td>...</td>\n",
              "    </tr>\n",
              "    <tr>\n",
              "      <th>516983</th>\n",
              "      <td>2020-10-31 00:00:00.000000</td>\n",
              "      <td>1097</td>\n",
              "      <td>30846.31</td>\n",
              "      <td>1097RLR0000013-1</td>\n",
              "      <td>0.0</td>\n",
              "    </tr>\n",
              "    <tr>\n",
              "      <th>516984</th>\n",
              "      <td>2020-10-31 00:00:00.000000</td>\n",
              "      <td>1060</td>\n",
              "      <td>75000.00</td>\n",
              "      <td>1060SB10000089-1</td>\n",
              "      <td>137.0</td>\n",
              "    </tr>\n",
              "    <tr>\n",
              "      <th>516985</th>\n",
              "      <td>2020-10-31 00:00:00.000000</td>\n",
              "      <td>1104</td>\n",
              "      <td>85404.29</td>\n",
              "      <td>1104SB10000349-1</td>\n",
              "      <td>0.0</td>\n",
              "    </tr>\n",
              "    <tr>\n",
              "      <th>516986</th>\n",
              "      <td>2020-10-31 00:00:00.000000</td>\n",
              "      <td>1017</td>\n",
              "      <td>43872.22</td>\n",
              "      <td>1017SB10000050-1</td>\n",
              "      <td>0.0</td>\n",
              "    </tr>\n",
              "    <tr>\n",
              "      <th>516987</th>\n",
              "      <td>2020-10-31 00:00:00.000000</td>\n",
              "      <td>1116</td>\n",
              "      <td>8723.08</td>\n",
              "      <td>1116SB10000070-1</td>\n",
              "      <td>0.0</td>\n",
              "    </tr>\n",
              "  </tbody>\n",
              "</table>\n",
              "<p>516988 rows × 5 columns</p>\n",
              "</div>"
            ],
            "text/plain": [
              "                          AsOfDate BranchCode  ...         AccountID NoOfArrearDays\n",
              "0       2020-11-30 00:00:00.000000       0002  ...  0002OB30001739-1            0.0\n",
              "1       2020-11-30 00:00:00.000000       0008  ...  0008O120000035-1            0.0\n",
              "2       2020-11-30 00:00:00.000000       0001  ...  0001OB30002295-1            0.0\n",
              "3       2020-11-30 00:00:00.000000       0001  ...  0001O110000191-3            0.0\n",
              "4       2020-11-30 00:00:00.000000       0056  ...  0056O130000018-1            0.0\n",
              "...                            ...        ...  ...               ...            ...\n",
              "516983  2020-10-31 00:00:00.000000       1097  ...  1097RLR0000013-1            0.0\n",
              "516984  2020-10-31 00:00:00.000000       1060  ...  1060SB10000089-1          137.0\n",
              "516985  2020-10-31 00:00:00.000000       1104  ...  1104SB10000349-1            0.0\n",
              "516986  2020-10-31 00:00:00.000000       1017  ...  1017SB10000050-1            0.0\n",
              "516987  2020-10-31 00:00:00.000000       1116  ...  1116SB10000070-1            0.0\n",
              "\n",
              "[516988 rows x 5 columns]"
            ]
          },
          "metadata": {
            "tags": []
          },
          "execution_count": 2
        }
      ]
    },
    {
      "cell_type": "code",
      "metadata": {
        "id": "8lhcEOxBuwIY"
      },
      "source": [
        ""
      ],
      "execution_count": null,
      "outputs": []
    }
  ]
}